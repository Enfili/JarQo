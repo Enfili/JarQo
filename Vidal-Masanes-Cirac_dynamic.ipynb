{
 "cells": [
  {
   "cell_type": "code",
   "execution_count": 383,
   "id": "5be7a937-28e3-4dae-9365-add6da13d992",
   "metadata": {},
   "outputs": [],
   "source": [
    "from qiskit import QuantumCircuit, transpile\n",
    "from qiskit_aer import Aer\n",
    "\n",
    "# graphics\n",
    "from qiskit.visualization import plot_bloch_multivector\n",
    "from IPython.display import clear_output, display\n",
    "\n",
    "# mathematics\n",
    "import numpy as np\n",
    "from scipy.stats import unitary_group\n",
    "\n",
    "# miscellaneous\n",
    "import time"
   ]
  },
  {
   "cell_type": "code",
   "execution_count": 384,
   "id": "d84d3b86-d19c-4fcc-81fc-44bca87abcf9",
   "metadata": {},
   "outputs": [],
   "source": [
    "## CONSTANTS\n",
    "NUMBER_OF_BITS = 1\n",
    "NUMBER_OF_QUBITS = 2 # you will always have two qubits, you will only add more unitary gates to correct for error\n",
    "MAX_REGISTERS = 5 # number of registers that ceases the simulation"
   ]
  },
  {
   "cell_type": "code",
   "execution_count": 385,
   "id": "7bb8527b-5572-487d-8f5b-185e802b98b2",
   "metadata": {},
   "outputs": [],
   "source": [
    "## FUNCTIONS\n",
    "\n",
    "# creates the entire dynamic circuit\n",
    "def vmc_circuit(num_qubits, alpha, beta, unitary_matrix, register_number):\n",
    "    vmc_circuit = QuantumCircuit(num_qubits, NUMBER_OF_BITS)\n",
    "    \n",
    "    # initialize states\n",
    "    create_random_state(alpha, beta, unitary_matrix, register_number, vmc_circuit)\n",
    "    create_plus(vmc_circuit)\n",
    "    vmc_circuit.barrier()\n",
    "    \n",
    "    # add unitaries and CNOTs\n",
    "    add_gates(vmc_circuit, unitary_matrix, register_number)\n",
    "\n",
    "    # add measurement on |+> register\n",
    "    # if result is |0>, then it is success\n",
    "    # if result is |1>, thes it is failure and we have to correct the state\n",
    "    vmc_circuit.measure(1, 0)\n",
    "\n",
    "    return vmc_circuit\n",
    "\n",
    "\n",
    "# adds needed number of unitaries and CNOTs\n",
    "def add_gates(quantum_circuit, unitary_matrix, register_number):\n",
    "    number_of_gates_applied_on_register = 2**(register_number - 1) # calculates number of unitaries in register register_number\n",
    "    for unitary in range(0, number_of_gates_applied_on_register):\n",
    "         # applying required number of unitaries on the correct register\n",
    "         quantum_circuit.unitary(unitary_matrix, [1], label=r\"$U_{\\varphi}$\")\n",
    "    \n",
    "\n",
    "# creates starting states |+> everywhere except for the first register\n",
    "def create_plus(quantum_circuit):\n",
    "    quantum_circuit.h(1)\n",
    "\n",
    "\n",
    "# creates random qubit state\n",
    "def create_random_state(alpha, beta, unitary_matrix, register_number, quantum_circuit):\n",
    "    norm = np.sqrt(abs(alpha)**2 + abs(beta)**2) # normalization\n",
    "    state = [alpha / norm, beta / norm]\n",
    "\n",
    "    # add or initialize this state in circuit\n",
    "    quantum_circuit.initialize(state, 0)\n",
    "\n",
    "    # Calculate the Hermitian conjugate (complex conjugate transpose)\n",
    "    unitary_conjugate = np.conj(unitary_matrix.T)\n",
    "    \n",
    "    # apply hermitian conjugate of unitary required number of times\n",
    "    num_of_conjugated_unitaries_applied = 2**(register_number - 1) - 1\n",
    "    for i in range(0, num_of_conjugated_unitaries_applied): # need to add error from previous measurements\n",
    "        quantum_circuit.unitary(unitary_conjugate, [0], label=r\"$U_{\\varphi}^{\\dagger}$\")"
   ]
  },
  {
   "cell_type": "code",
   "execution_count": 386,
   "id": "48168ffa-0e74-447d-ab89-b793535c6b25",
   "metadata": {},
   "outputs": [],
   "source": [
    "## FUNCTIONS TO CREATE STATIC RESULTING CIRCUIT THAT WAS SUCCESSFUL IN THE END\n",
    "\n",
    "# creates the entire static circuit\n",
    "def vmc_circuit_static(register_number, alpha, beta, unitary_matrix):\n",
    "    vmc_circuit = QuantumCircuit(register_number + 1, NUMBER_OF_BITS)\n",
    "    \n",
    "    # initialize states\n",
    "    create_random_state_static(alpha, beta, vmc_circuit)\n",
    "    create_plus_static(vmc_circuit)\n",
    "    vmc_circuit.barrier()\n",
    "    \n",
    "    # add unitaries and CNOTs and measurements\n",
    "    add_gates_static(vmc_circuit, unitary_matrix)\n",
    "\n",
    "    return vmc_circuit\n",
    "\n",
    "\n",
    "# adds unitaries, CNOTs and measurements\n",
    "def add_gates_static(quantum_circuit, unitary_matrix):\n",
    "    num_qubits = quantum_circuit.num_qubits\n",
    "    if num_qubits < 2:\n",
    "        return\n",
    "\n",
    "    # unitaries\n",
    "    number_of_gates_applied_on_register = 1 # you start with one gate applied and then double it for every new register\n",
    "    quantum_circuit.unitary(unitary_matrix, [1], label=r\"$U_{\\varphi}$\") # unitary on first register\n",
    "    for register in range(2, num_qubits):\n",
    "        number_of_gates_applied_on_register *= 2\n",
    "        for unitary in range(0, number_of_gates_applied_on_register):\n",
    "            # applying required number of unitaries on the correct register\n",
    "            quantum_circuit.unitary(unitary_matrix, [register], label=r\"$U_{\\varphi}$\")\n",
    "    \n",
    "    # CNOTs and measurements\n",
    "    for qubit in range(1, num_qubits):\n",
    "        quantum_circuit.cx(quantum_circuit.qubits[0], quantum_circuit.qubits[qubit])\n",
    "        quantum_circuit.measure(quantum_circuit.qubits[qubit], 0)\n",
    "\n",
    "\n",
    "def create_plus_static(quantum_circuit):\n",
    "    num_qubits = quantum_circuit.num_qubits\n",
    "    for qubit in range(1, num_qubits):\n",
    "        quantum_circuit.h(quantum_circuit.qubits[qubit])\n",
    "\n",
    "\n",
    "# creates random qubit state\n",
    "def create_random_state_static(alpha, beta, quantum_circuit):\n",
    "    norm = np.sqrt(abs(alpha)**2 + abs(beta)**2) # normalization\n",
    "    state = [alpha / norm, beta / norm]\n",
    "    \n",
    "    # add or initialize this state in circuit\n",
    "    quantum_circuit.initialize(state, 0)"
   ]
  },
  {
   "cell_type": "code",
   "execution_count": 387,
   "id": "937c3d8e-0989-46dd-a9c6-7977ba55a47e",
   "metadata": {},
   "outputs": [],
   "source": [
    "# create probability amplitudes for initial state\n",
    "alpha, beta = np.random.rand(2) + 1j * np.random.rand(2)\n",
    "\n",
    "# create random unitary you want to apply on initial state |\\psi>\n",
    "unitary_matrix = unitary_group.rvs(2) # generates random 2x2 unitary"
   ]
  },
  {
   "cell_type": "code",
   "execution_count": 388,
   "id": "996ba7b4-c807-4b87-aed5-fbf6cf6e3f58",
   "metadata": {},
   "outputs": [
    {
     "data": {
      "image/png": "[encoded data removed]",
      "text/plain": [
       "<Figure size 621.739x284.278 with 1 Axes>"
      ]
     },
     "execution_count": 388,
     "metadata": {},
     "output_type": "execute_result"
    }
   ],
   "source": [
    "## CREATE INITIAL CIRCUIT\n",
    "\n",
    "register_number = 1 # in the beginning you start with only one register (or the first one)\n",
    "qc = vmc_circuit(NUMBER_OF_QUBITS, alpha, beta, unitary_matrix, register_number)\n",
    "\n",
    "# with qc.while_loop((qc.clbits[0], 1)): # if the result is |1>, then the measurement was unsuccessful and you need to correct it\n",
    "#     number_of_qubits += 1\n",
    "#     qc = vmc_circuit(number_of_qubits, NUMBER_OF_BITS)\n",
    "#     measured_qubit += 1\n",
    "#     qc.measure(measured_qubit, 0)\n",
    "\n",
    "# in the resulting circuit you should always have one more unitary applied on |+> than one hermitian conjugate on |\\psi> \n",
    "qc.draw(output='mpl', fold=-1) "
   ]
  },
  {
   "cell_type": "code",
   "execution_count": 389,
   "id": "7dcb92c3-4355-4ba8-9478-a9f66f20d666",
   "metadata": {
    "scrolled": true
   },
   "outputs": [
    {
     "data": {
      "image/png": "[encoded data removed]",
      "text/plain": [
       "<Figure size 788.961x284.278 with 1 Axes>"
      ]
     },
     "metadata": {},
     "output_type": "display_data"
    },
    {
     "name": "stdout",
     "output_type": "stream",
     "text": [
      "[{'1': 1}, {'0': 1}]\n"
     ]
    }
   ],
   "source": [
    "## SIMULATION\n",
    "# with dynamic creation of circuits\n",
    "\n",
    "register_number = 1\n",
    "shots = 1 # you have only one measurement and based on its success you are either expanding circuit or not\n",
    "list_of_results = []\n",
    "qasm_simulator = Aer.get_backend(\"qasm_simulator\")\n",
    "while register_number <= MAX_REGISTERS:    \n",
    "    transpiled_qc = transpile(qc, qasm_simulator)\n",
    "    result = qasm_simulator.run(transpiled_qc, shots=shots).result()\n",
    "    counts = result.get_counts()\n",
    "    list_of_results.append(counts)\n",
    "\n",
    "    # Clear the previous output and display the updated circuit\n",
    "    clear_output(wait=True)\n",
    "    display(qc.draw(output='mpl', fold=-1))  # Use Matplotlib for a nice circuit diagram\n",
    "    # Pause for 1 second to simulate real-time update\n",
    "    time.sleep(1)\n",
    "\n",
    "    # if the result of measurement is |0>, we can end the loop, because U_{\\varphi} is successfully applied on initial state \\psi\n",
    "    if \"0\" in counts:\n",
    "        break\n",
    "    \n",
    "    # if you want to check the statevector\n",
    "    # however the results will not be in agreement with qasm_simulator as those are two separate \"experiments\"\n",
    "    # statevector_simulator = Aer.get_backend(\"statevector_simulator\")\n",
    "    # transpiled_qc = transpile(qc, statevector_simulator)\n",
    "    # result = statevector_simulator.run(transpiled_qc, shots=shots).result()\n",
    "    # statevector = result.get_statevector()\n",
    "    # print(statevector)\n",
    "\n",
    "    # create new circuit that simulates the unsuccessful result of previous measurement (i.e. |1>)\n",
    "    register_number += 1\n",
    "    qc = vmc_circuit(NUMBER_OF_QUBITS, alpha, beta, unitary_matrix, register_number)\n",
    "    \n",
    "\n",
    "# print list of results for you circuits\n",
    "print(list_of_results)"
   ]
  },
  {
   "cell_type": "code",
   "execution_count": 390,
   "id": "38170672-afd1-4825-a1e8-982d943bee41",
   "metadata": {},
   "outputs": [
    {
     "data": {
      "image/png": "[encoded data removed]",
      "text/plain": [
       "<Figure size 872.774x367.889 with 1 Axes>"
      ]
     },
     "execution_count": 390,
     "metadata": {},
     "output_type": "execute_result"
    }
   ],
   "source": [
    "# draw the entire circuit in one piece\n",
    "qc_resulting = vmc_circuit_static(register_number, alpha, beta, unitary_matrix)\n",
    "qc_resulting.draw(output='mpl', fold=-1)"
   ]
  }
 ],
 "metadata": {
  "kernelspec": {
   "display_name": "Python 3 (ipykernel)",
   "language": "python",
   "name": "python3"
  },
  "language_info": {
   "codemirror_mode": {
    "name": "ipython",
    "version": 3
   },
   "file_extension": ".py",
   "mimetype": "text/x-python",
   "name": "python",
   "nbconvert_exporter": "python",
   "pygments_lexer": "ipython3",
   "version": "3.12.7"
  }
 },
 "nbformat": 4,
 "nbformat_minor": 5
}
